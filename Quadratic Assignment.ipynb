{
 "cells": [
  {
   "cell_type": "code",
   "execution_count": 7,
   "metadata": {},
   "outputs": [
    {
     "data": {
      "text/plain": [
       "224"
      ]
     },
     "execution_count": 7,
     "metadata": {},
     "output_type": "execute_result"
    }
   ],
   "source": [
    "## QUADRATIC ASSIGNMENT PROBLEM using SANN.\n",
    "# Travelling Saleman Problem can be done using this approach.\n",
    "## To minimize flow costs between placed departments,\n",
    "# Cost = flow*distance. Minimize Cost.\n",
    "import numpy as np\n",
    "import pandas as pd\n",
    "import matplotlib.pyplot as plt\n",
    "import warnings\n",
    "warnings.simplefilter('ignore')\n",
    "\n",
    "Distance = pd.DataFrame([[0,1,2,3,1,2,3,4], [1,0,1,2,2,1,2,3], [2,1,0,1,3,2,1,2], [3,2,1,0,4,3,2,1], \n",
    "                         [1,2,3,4,0,1,2,3], [2,1,2,3,1,0,1,2], [3,2,1,2,2,1,0,1], [4,3,2,1,3,2,1,0]],\n",
    "                       columns=[\"A\", \"B\", \"C\", \"D\", \"E\", \"F\", \"G\", \"I\"], \n",
    "                       index=[\"A\", \"B\", \"C\", \"D\", \"E\", \"F\", \"G\", \"I\"])\n",
    "\n",
    "Flow = pd.DataFrame([[0,5,2,4,1,0,0,6], [5,0,3,0,2,2,2,0], [2,3,0,0,0,0,0,5], [4,0,0,0,5,2,2,10], \n",
    "                         [1,2,0,5,0,10,0,0], [0,2,0,2,10,0,5,1], [0,2,0,2,0,5,0,10], [6,0,5,10,0,1,10,0]],\n",
    "                       columns=[\"A\", \"B\", \"C\", \"D\", \"E\", \"F\", \"G\", \"I\"], \n",
    "                       index=[\"A\", \"B\", \"C\", \"D\", \"E\", \"F\", \"G\", \"I\"])\n",
    "\n",
    "T0 = 1000 ##initial temperature.\n",
    "M = 300 ## num. iterations\n",
    "N = 15 \n",
    "a = 0.95\n",
    "X0 = [\"C\", \"G\", \"D\", \"A\", \"E\", \"F\", \"B\", \"I\"]#initial solution.\n",
    "\n",
    "temp = [] \n",
    "of_val = []\n",
    "for i in range(M): ## How many times you want to decrease temperature.a\n",
    "    for j in range(N): # for each m how many neighborhood searches.\n",
    "        r_1 = np.random.randint(0, len(X0))\n",
    "        r_2 = np.random.randint(0, len(X0)) ## We want to swap two departments/\n",
    "        while r_1== r_2:\n",
    "            r_2 = np.random.randint(0, len(X0))\n",
    "            \n",
    "        xt,xf = [],[]\n",
    "        A1 = X0[r_1]\n",
    "        A2 = X0[r_2]\n",
    "        \n",
    "        ## New set of Apartments./\n",
    "        w=0\n",
    "        for i in X0:\n",
    "            if X0[w] == A1:\n",
    "                xt.append(A2)\n",
    "            elif X0[w] == A2:\n",
    "                xt.append(A1)\n",
    "            else:\n",
    "                xt.append(X0[w])\n",
    "            w +=1\n",
    "            \n",
    "        ## Current Solution\n",
    "        new_df = np.array(Distance.reindex(columns=X0, index=X0))\n",
    "        of_start = np.array(pd.DataFrame(new_df*Flow))\n",
    "        \n",
    "        ## New Solution.\n",
    "        df = np.array(Distance.reindex(columns = xt, index=xt))\n",
    "        of = np.array(pd.DataFrame(df*Flow))\n",
    "\n",
    "        ##Initial Cost\n",
    "        cost_curr = np.sum(of_start)\n",
    "        cost_new = np.sum(of)\n",
    "        \n",
    "        rand_n = np.random.rand()\n",
    "        formula = 1.0/np.exp((cost_new - cost_curr)/T0)\n",
    "        \n",
    "        if cost_new <= cost_curr:\n",
    "            X0 = xt\n",
    "            \n",
    "        elif rand_n <= formula: # we take the new solution/\n",
    "            ## EXPLORE EXPLOIT DELIMMA IN RL.\n",
    "            X0 = xt\n",
    "            \n",
    "        else:\n",
    "            X0=X0\n",
    "            \n",
    "    temp.append(T0)\n",
    "    of_val.append(cost_curr)\n",
    "    T0 = a*T0    \n",
    "\n",
    "cost_curr"
   ]
  }
 ],
 "metadata": {
  "kernelspec": {
   "display_name": "Python 3",
   "language": "python",
   "name": "python3"
  },
  "language_info": {
   "codemirror_mode": {
    "name": "ipython",
    "version": 3
   },
   "file_extension": ".py",
   "mimetype": "text/x-python",
   "name": "python",
   "nbconvert_exporter": "python",
   "pygments_lexer": "ipython3",
   "version": "3.6.8"
  }
 },
 "nbformat": 4,
 "nbformat_minor": 2
}
