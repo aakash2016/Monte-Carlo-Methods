{
 "cells": [
  {
   "cell_type": "code",
   "execution_count": 3,
   "metadata": {},
   "outputs": [
    {
     "name": "stdout",
     "output_type": "stream",
     "text": [
      "3.58375652680674 -1.8387657949480514\n"
     ]
    },
    {
     "name": "stderr",
     "output_type": "stream",
     "text": [
      "/home/aakash/summer_intern/lib/python3.6/site-packages/ipykernel_launcher.py:53: RuntimeWarning: overflow encountered in exp\n"
     ]
    },
    {
     "data": {
      "image/png": "[encoded data removed]",
      "text/plain": [
       "<Figure size 432x288 with 1 Axes>"
      ]
     },
     "metadata": {
      "needs_background": "light"
     },
     "output_type": "display_data"
    }
   ],
   "source": [
    "## SANN\n",
    "# Himmelblau Function -- min((x^2 + y - 11)^2 + (x + y^2 - 7)^2)\n",
    "import numpy as np\n",
    "import matplotlib.pyplot as plt\n",
    "%matplotlib inline\n",
    "\n",
    "## ignore the warning of zero division.\n",
    "np.seterr(divide='ignore')\n",
    "\n",
    "x = 2#initial x\n",
    "y = 1#initial y\n",
    "\n",
    "def fval(x, y):\n",
    "    z = (x**2 + y - 11)**2 + (x + y**2 - 7)**2\n",
    "    return z\n",
    "\n",
    "## Hyperparameters(user defined)\n",
    "T0 = 1000 ##initial temperature.\n",
    "M = 300 ## num. iterations\n",
    "N = 15 # for a particular M how many times you want to search your neighborhood.\n",
    "a = 0.95 # cooling rate\n",
    "k =0.1 #helps reduce the step size.\n",
    "temp = [] ## to keep track of temperatures.\n",
    "of_val = []#OF value at end of each m.\n",
    "for i in range(M): ## How many times you want to decrease temperature.a\n",
    "    for j in range(N): # for each m how many neighborhood searches.\n",
    "        ### X -->\n",
    "        r1 =np.random.rand()\n",
    "        r2= np.random.rand() ## increase or decreasee x value by this amount;\n",
    "        if r1 > 0.5:\n",
    "            step_x = k*r2\n",
    "        else:    \n",
    "            step_x = -k*r2\n",
    "        \n",
    "        ### Y -->\n",
    "        r1 =np.random.rand()\n",
    "        r2= np.random.rand() ## increase or decreasee x value by this amount;\n",
    "        if r1 > 0.5:\n",
    "            step_y = k*r2\n",
    "        else:    \n",
    "            step_y = -k*r2\n",
    "            \n",
    "        ## New temporary solution/.\n",
    "        x_temp = x + step_x\n",
    "        y_temp = y + step_y\n",
    "        \n",
    "        f_curr = fval(x, y)\n",
    "        f_temp = fval(x_temp, y_temp) ## if its better then we accept it.\n",
    "            \n",
    "        ## Else we may or may not take it.\n",
    "        ## If it is worse/\n",
    "        rand_n = np.random.rand()\n",
    "        formula = 1.0/np.exp((f_temp - f_curr)/T0)\n",
    "        \n",
    "        if f_temp <= f_curr:\n",
    "            x = x_temp\n",
    "            y = y_temp\n",
    "            \n",
    "        elif rand_n <= formula: # we take the new solution/\n",
    "            ## EXPLORE EXPLOIT DELIMMA IN RL.\n",
    "            x = x_temp\n",
    "            y = y_temp\n",
    "            \n",
    "        else:\n",
    "            x=x\n",
    "            y=y\n",
    "            \n",
    "    temp.append(T0)\n",
    "    of_val.append(f_curr)\n",
    "    T0 = a*T0    \n",
    "    \n",
    "print(x, y)\n",
    "plt.plot(temp, of_val)\n",
    "plt.title(\"Z at different temperatures\")\n",
    "plt.xlabel(\"Temp\")\n",
    "plt.ylabel(\"Z\")\n",
    "plt.xlim(1000, 0)\n",
    "plt.show()"
   ]
  }
 ],
 "metadata": {
  "kernelspec": {
   "display_name": "Python 3",
   "language": "python",
   "name": "python3"
  },
  "language_info": {
   "codemirror_mode": {
    "name": "ipython",
    "version": 3
   },
   "file_extension": ".py",
   "mimetype": "text/x-python",
   "name": "python",
   "nbconvert_exporter": "python",
   "pygments_lexer": "ipython3",
   "version": "3.6.8"
  }
 },
 "nbformat": 4,
 "nbformat_minor": 2
}
