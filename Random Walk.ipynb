{
 "cells": [
  {
   "cell_type": "markdown",
   "metadata": {},
   "source": [
    "# Random Walk!\n",
    "What is the longest random Walk you can take so that on an average you will end up 4 blocks or fewer from home?"
   ]
  },
  {
   "cell_type": "code",
   "execution_count": 8,
   "metadata": {},
   "outputs": [],
   "source": [
    "import random\n",
    "\n",
    "def random_walk(n): ## Return coordinates after n block random walk.\n",
    "    x,y = 0,0\n",
    "    for i in range(n):\n",
    "        step = random.choice(['N', 'S', 'W', 'E'])\n",
    "        \n",
    "        if step == 'N':\n",
    "            y += 1\n",
    "        elif step == 'S':\n",
    "            y -= 1\n",
    "        elif step == 'E':\n",
    "            x += 1\n",
    "        else:\n",
    "            x -= 1\n",
    "        \n",
    "    return(x, y)\n",
    "\n",
    "def RW(n):\n",
    "    x,y =0,0\n",
    "    for i in range(n):\n",
    "        (dx, dy) = random.choice([(0,1),(0,-1),(1, 0),(-1,0)])\n",
    "        x += dx\n",
    "        y += dy\n",
    "    return(x, y)"
   ]
  },
  {
   "cell_type": "code",
   "execution_count": 9,
   "metadata": {},
   "outputs": [
    {
     "name": "stdout",
     "output_type": "stream",
     "text": [
      "Distance from Home =  4\n",
      "Distance from Home =  0\n",
      "Distance from Home =  4\n",
      "Distance from Home =  2\n",
      "Distance from Home =  4\n",
      "Distance from Home =  2\n",
      "Distance from Home =  2\n",
      "Distance from Home =  0\n",
      "Distance from Home =  4\n",
      "Distance from Home =  2\n"
     ]
    }
   ],
   "source": [
    "## Start the Simulation,\n",
    "for i in range(10):\n",
    "    walk = RW(10) ## each RW is 10 blocks long.\n",
    "    print('Distance from Home = ', abs(walk[0]) + abs(walk[1]))"
   ]
  },
  {
   "cell_type": "code",
   "execution_count": 12,
   "metadata": {},
   "outputs": [
    {
     "name": "stdout",
     "output_type": "stream",
     "text": [
      "No Transport percentage =  40.82\n"
     ]
    }
   ],
   "source": [
    "num_walks = 10000\n",
    "for l in range(1, 31):\n",
    "    no_transport = 0\n",
    "    for i in range(num_walks):\n",
    "        walk = RW(l)\n",
    "        distance = abs(walk[0]) + abs(walk[1])\n",
    "        if distance <= 4:\n",
    "            no_transport += 1\n",
    "\n",
    "print('No Transport percentage = ', 100*float(no_transport)/num_walks)"
   ]
  }
 ],
 "metadata": {
  "kernelspec": {
   "display_name": "Python 3",
   "language": "python",
   "name": "python3"
  },
  "language_info": {
   "codemirror_mode": {
    "name": "ipython",
    "version": 3
   },
   "file_extension": ".py",
   "mimetype": "text/x-python",
   "name": "python",
   "nbconvert_exporter": "python",
   "pygments_lexer": "ipython3",
   "version": "3.6.8"
  }
 },
 "nbformat": 4,
 "nbformat_minor": 2
}
